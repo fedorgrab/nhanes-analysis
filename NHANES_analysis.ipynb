{
 "cells": [
  {
   "cell_type": "markdown",
   "metadata": {},
   "source": [
    "### Imports:"
   ]
  },
  {
   "cell_type": "code",
   "execution_count": 1,
   "metadata": {},
   "outputs": [],
   "source": [
    "import ssl\n",
    "import os\n",
    "import numpy as np\n",
    "import pandas as pd\n",
    "import matplotlib.pyplot as plt\n",
    "import graphic\n",
    "import utils\n",
    "import requests"
   ]
  },
  {
   "cell_type": "markdown",
   "metadata": {},
   "source": [
    "### Settings:"
   ]
  },
  {
   "cell_type": "code",
   "execution_count": 2,
   "metadata": {},
   "outputs": [],
   "source": [
    "%matplotlib inline\n",
    "ssl._create_default_https_context = ssl._create_unverified_context\n",
    "pd.set_option('display.max_columns', 40)\n",
    "pd.set_option('display.precision', 4)"
   ]
  },
  {
   "cell_type": "markdown",
   "metadata": {},
   "source": [
    "### Constants:"
   ]
  },
  {
   "cell_type": "code",
   "execution_count": 3,
   "metadata": {},
   "outputs": [],
   "source": [
    "CURRENT_DIR = os.getcwd()"
   ]
  },
  {
   "cell_type": "markdown",
   "metadata": {},
   "source": [
    "#### File names:"
   ]
  },
  {
   "cell_type": "code",
   "execution_count": 4,
   "metadata": {},
   "outputs": [],
   "source": [
    "MENTAL_HEALTH_URL = \"https://wwwn.cdc.gov/Nchs/Nhanes/2015-2016/DPQ_I.XPT\"\n",
    "DRUG_USE_URL = \"https://wwwn.cdc.gov/Nchs/Nhanes/2015-2016/DUQ_I.XPT\"\n",
    "ALCOHOL_USE_URL = \"https://wwwn.cdc.gov/Nchs/Nhanes/2015-2016/ALQ_I.XPT\"\n",
    "OCCUPATION_URL = \"https://wwwn.cdc.gov/Nchs/Nhanes/2015-2016/OCQ_I.XPT\"\n",
    "SEXUAL_BEHAVIOUR_URL = \"https://wwwn.cdc.gov/Nchs/Nhanes/2015-2016/SXQ_I.XPT\"\n",
    "DEMOGRAPHIC_URL = \"https://wwwn.cdc.gov/Nchs/Nhanes/2015-2016/DEMO_I.XPT\"\n",
    "INCOME_URL = \"https://wwwn.cdc.gov/Nchs/Nhanes/2015-2016/INQ_I.XPT\"\n",
    "REPRODUCTIVE_URL = \"https://wwwn.cdc.gov/Nchs/Nhanes/2015-2016/RHQ_I.XPT\""
   ]
  },
  {
   "cell_type": "markdown",
   "metadata": {},
   "source": [
    "#### Columns:\n",
    "<br>\n",
    "<details>\n",
    "  <summary>Column codes vocabulary</summary>\n",
    "  \n",
    "### Mental Health\n",
    "\n",
    "#### NHANES Mental health variable dictionary:\n",
    "\n",
    "This information is taken from [NHANES resourse](https://wwwn.cdc.gov/Nchs/Nhanes/2013-2014/DPQ_H.htm)\n",
    "\n",
    "| Survey code | Meaning | Value Description type |\n",
    "| :--- | :--- | :---: |\n",
    "| DPQ010 | Have little interest in doing things | 1 |\n",
    "| DPQ020 | Feeling down, depressed, or hopeless | 1 |\n",
    "| DPQ030 | Trouble sleeping or sleeping too much | 1 |\n",
    "| DPQ040 | Feeling tired or having little energy | 1 |\n",
    "| DPQ050 | Poor appetite or overeating | 1 |\n",
    "| DPQ060 | Feeling bad about yourself | 1 |\n",
    "| DPQ070 | Trouble concentrating on things | 1 |\n",
    "| DPQ080 | Moving or speaking slowly or too fast | 1 |\n",
    "| DPQ090 | Thought you would be better off dead | 1 |\n",
    "| DPQ100 | How difficult have these problems made it for you to do your work, take care of things at home,<br> or get along with people? | 2 |\n",
    "\n",
    "#### Value descriptions \n",
    "#### Value description type 1: \n",
    "\n",
    " Value  Description \n",
    "\n",
    "0 – Not at all \\\n",
    "1 – Several day \\\n",
    "2 – More than half the days \\\n",
    "3 – Nearly every day \\\n",
    "7 – Refused \\\n",
    "9 – Don't know  \\\n",
    ". – Missing\n",
    "\n",
    "#### Value description type 2: \n",
    "\n",
    "0 – Not at all difficult  \n",
    "1 – Somewhat difficult  \n",
    "2 – Very Difficult  \n",
    "3 – Extremely Difficult  \n",
    "7 – Refused  \n",
    "9 – Don't know  \n",
    ". – Missing\n",
    "\n",
    "\n",
    "### Drug use\n",
    "#### NHANES Drug use variable dictionary:\n",
    "\n",
    "| Survey code | Meaning | Value Description type |\n",
    "| :--- | :--- | :---: |\n",
    "| DUQ240 | Ever used cocaine/heroin/methamphetamine | YES/NO |\n",
    "| DUQ430 | Ever been in rehabilitation program | YES/NO |\n",
    "\n",
    "#### Value descriptions \n",
    "\n",
    "#### Value description type YES/NO: \n",
    "1 – Yes\t\\\n",
    "2 – No \\\n",
    "7 – Refused \\\n",
    "9 – Don't know \\\n",
    ". – Missing\n",
    "    \n",
    "</details>"
   ]
  },
  {
   "cell_type": "code",
   "execution_count": 5,
   "metadata": {},
   "outputs": [],
   "source": [
    "ID = \"SEQN\"\n",
    "\n",
    "# Demographic:\n",
    "GENDER = \"RIAGENDR\"\n",
    "AGE = \"RIDAGEYR\"\n",
    "RACE = \"RIDRETH3\"\n",
    "EDUCATION = \"DMDEDUC2\"\n",
    "MARITAL_STATUS = \"DMDMARTL\"\n",
    "FAMILY_SIZE = \"DMDFMSIZ\"\n",
    "AGE_GROUP = \"RIDAGEYRGR\"\n",
    "ANNUAL_INC = \"INDFMIN2\"\n",
    "DEMOGRAPHIC_CODES = [GENDER, AGE, RACE, EDUCATION, MARITAL_STATUS, FAMILY_SIZE, ANNUAL_INC]\n",
    "# INCOME:\n",
    "POVERTY_INDEX = \"INDFMMPI\"\n",
    "FAMILY_INCOME = \"IND235\"\n",
    "FAMILY_INCOME_GROUP = \"IND235GR\"\n",
    "POVERTY_LEVEL_CATEGORY = \"INDFMMPC\"\n",
    "INCOME_CODES = [POVERTY_INDEX, FAMILY_INCOME, POVERTY_LEVEL_CATEGORY]\n",
    "# Mental health:\n",
    "DEPRESSION_CODES = [f\"DPQ0{i}\" if i < 100 else \"DPQ100\" for i in range(10,101,10)]\n",
    "DEPRESSION_SCORE = \"DPQSC\"\n",
    "DEPRESSION_GROUP = \"DPQGR\"\n",
    "DEPRESSED = \"DPQMDF\"\n",
    "# Drug use:\n",
    "DRUG_USE_CODES = (\"DUQ430\", \"DUQ240\")\n",
    "# Alco use:\n",
    "ALCOHOL_USE_CODES = (\"ALQ120Q\", \"ALQ120U\")\n",
    "ALCOHOL_USE_GROUP = \"ALQGR\"\n",
    "# Sexual Behaviour:\n",
    "ORIENTATION_FEMALE = \"SXQ295\"\n",
    "ORIENTATION_MALE = \"SXQ296\"\n",
    "ORIENTATION_BOTH = \"SXQBOTH\"\n",
    "SEXUAL_BEH_CODES = [ORIENTATION_FEMALE, ORIENTATION_MALE]\n",
    "# Reproductive Health:\n",
    "EVER_BEEN_PREGNANT = \"RHQ131\"\n",
    "TIMES_BEEN_PREGNANT = \"RHQ160\"\n",
    "REPRODUCTIVE_HEALTH_CODES = [EVER_BEEN_PREGNANT, TIMES_BEEN_PREGNANT]\n",
    "\n",
    "ALL_CODES = [\n",
    "    *DEPRESSION_CODES,\n",
    "    *ALCOHOL_USE_CODES,\n",
    "    *DRUG_USE_CODES,\n",
    "    *DEMOGRAPHIC_CODES, \n",
    "    *INCOME_CODES,\n",
    "    *SEXUAL_BEH_CODES,\n",
    "    *REPRODUCTIVE_HEALTH_CODES\n",
    "]\n",
    "PROCESSED_COLUMNS = [ID, *ALL_CODES]"
   ]
  },
  {
   "cell_type": "markdown",
   "metadata": {},
   "source": [
    "### Dataframes:"
   ]
  },
  {
   "cell_type": "code",
   "execution_count": 6,
   "metadata": {},
   "outputs": [],
   "source": [
    "depr_df = utils.get_sas_file_from_url(MENTAL_HEALTH_URL)\n",
    "alco_df = utils.get_sas_file_from_url(ALCOHOL_USE_URL)\n",
    "drug_df = utils.get_sas_file_from_url(DRUG_USE_URL)\n",
    "demographic_df = utils.get_sas_file_from_url(DEMOGRAPHIC_URL)\n",
    "income_df = utils.get_sas_file_from_url(INCOME_URL)\n",
    "sexual_behaviour_df = utils.get_sas_file_from_url(SEXUAL_BEHAVIOUR_URL)\n",
    "reproductive_health_df = utils.get_sas_file_from_url(REPRODUCTIVE_URL)"
   ]
  },
  {
   "cell_type": "markdown",
   "metadata": {},
   "source": [
    "# Data preparation:"
   ]
  },
  {
   "cell_type": "markdown",
   "metadata": {},
   "source": [
    "* Create the whole dataframe; \n",
    "* Drop missing rows: serveyed who did not passed all necessary questionaries;\n",
    "* Fill missing values with -1111;"
   ]
  },
  {
   "cell_type": "code",
   "execution_count": 7,
   "metadata": {},
   "outputs": [],
   "source": [
    "df = (\n",
    "    # Merging:\n",
    "    pd.merge(depr_df, alco_df, how=\"outer\")\n",
    "    .merge(drug_df, how=\"outer\")\n",
    "    .merge(demographic_df)\n",
    "    .merge(income_df)\n",
    "    .merge(sexual_behaviour_df)\n",
    "    .merge(reproductive_health_df, how=\"outer\")\n",
    "    [PROCESSED_COLUMNS]\n",
    "    # Dealing with missing values\n",
    "    .dropna(subset=DEPRESSION_CODES, how=\"all\")\n",
    "    .dropna(subset=ALCOHOL_USE_CODES, how=\"all\")\n",
    "    .dropna(subset=DRUG_USE_CODES, how=\"all\")\n",
    "    .dropna(subset=DEMOGRAPHIC_CODES, how=\"all\")\n",
    "    .dropna(subset=INCOME_CODES, how=\"all\")\n",
    "    .fillna(-1111)\n",
    ")"
   ]
  },
  {
   "cell_type": "markdown",
   "metadata": {},
   "source": [
    "Map Race values:"
   ]
  },
  {
   "cell_type": "code",
   "execution_count": 8,
   "metadata": {},
   "outputs": [],
   "source": [
    "RACE_MAP = {1:\"Mexican American\", 2:\"Other Hispanic\", 3: \"Non-Hispanic White\", 4:\"Non-Hispanic Black\", 6:\"Non-Hispanic Asian\", 7:\"Other Race - Including Multi-Racial\"}\n",
    "df[RACE] = df[RACE].map(lambda x: RACE_MAP[x])"
   ]
  },
  {
   "cell_type": "markdown",
   "metadata": {},
   "source": [
    "Map Marital status values:"
   ]
  },
  {
   "cell_type": "code",
   "execution_count": 9,
   "metadata": {},
   "outputs": [],
   "source": [
    "MARITAL_MAP = {1:\"Married\", 2:\"Widowed\", 3:\"Divorced\", 4:\"Separated\", 5:\"Never married\", 6:\"Living with partner\"}\n",
    "df[MARITAL_STATUS] = df[MARITAL_STATUS].map(lambda x: MARITAL_MAP[x] if x in [1,2,3,4,5,6] else np.nan)"
   ]
  },
  {
   "cell_type": "markdown",
   "metadata": {},
   "source": [
    "Map Sexual Orientation values:"
   ]
  },
  {
   "cell_type": "code",
   "execution_count": 10,
   "metadata": {},
   "outputs": [],
   "source": [
    "df[ORIENTATION_BOTH] = df.apply(utils.orientation_det, axis=1)"
   ]
  },
  {
   "cell_type": "markdown",
   "metadata": {},
   "source": [
    "# Data Observation"
   ]
  },
  {
   "cell_type": "markdown",
   "metadata": {},
   "source": [
    "## Total"
   ]
  },
  {
   "cell_type": "code",
   "execution_count": 11,
   "metadata": {},
   "outputs": [
    {
     "data": {
      "text/html": [
       "<div>\n",
       "<style scoped>\n",
       "    .dataframe tbody tr th:only-of-type {\n",
       "        vertical-align: middle;\n",
       "    }\n",
       "\n",
       "    .dataframe tbody tr th {\n",
       "        vertical-align: top;\n",
       "    }\n",
       "\n",
       "    .dataframe thead th {\n",
       "        text-align: right;\n",
       "    }\n",
       "</style>\n",
       "<table border=\"1\" class=\"dataframe\">\n",
       "  <thead>\n",
       "    <tr style=\"text-align: right;\">\n",
       "      <th></th>\n",
       "      <th>SEQN</th>\n",
       "      <th>DPQ010</th>\n",
       "      <th>DPQ020</th>\n",
       "      <th>DPQ030</th>\n",
       "      <th>DPQ040</th>\n",
       "      <th>DPQ050</th>\n",
       "      <th>DPQ060</th>\n",
       "      <th>DPQ070</th>\n",
       "      <th>DPQ080</th>\n",
       "      <th>DPQ090</th>\n",
       "      <th>DPQ100</th>\n",
       "      <th>ALQ120Q</th>\n",
       "      <th>ALQ120U</th>\n",
       "      <th>DUQ430</th>\n",
       "      <th>DUQ240</th>\n",
       "      <th>RIAGENDR</th>\n",
       "      <th>RIDAGEYR</th>\n",
       "      <th>DMDEDUC2</th>\n",
       "      <th>DMDFMSIZ</th>\n",
       "      <th>INDFMIN2</th>\n",
       "      <th>INDFMMPI</th>\n",
       "      <th>IND235</th>\n",
       "      <th>INDFMMPC</th>\n",
       "      <th>SXQ295</th>\n",
       "      <th>SXQ296</th>\n",
       "      <th>RHQ131</th>\n",
       "      <th>RHQ160</th>\n",
       "    </tr>\n",
       "  </thead>\n",
       "  <tbody>\n",
       "    <tr>\n",
       "      <th>count</th>\n",
       "      <td>3370.0000</td>\n",
       "      <td>3.3700e+03</td>\n",
       "      <td>3.3700e+03</td>\n",
       "      <td>3.3700e+03</td>\n",
       "      <td>3.3700e+03</td>\n",
       "      <td>3.3700e+03</td>\n",
       "      <td>3.3700e+03</td>\n",
       "      <td>3.3700e+03</td>\n",
       "      <td>3.3700e+03</td>\n",
       "      <td>3.3700e+03</td>\n",
       "      <td>3.3700e+03</td>\n",
       "      <td>3.3700e+03</td>\n",
       "      <td>3370.0000</td>\n",
       "      <td>3370.0000</td>\n",
       "      <td>3370.0000</td>\n",
       "      <td>3370.0000</td>\n",
       "      <td>3370.0000</td>\n",
       "      <td>3370.0000</td>\n",
       "      <td>3370.0000</td>\n",
       "      <td>3370.0000</td>\n",
       "      <td>3370.0000</td>\n",
       "      <td>3370.0000</td>\n",
       "      <td>3370.0000</td>\n",
       "      <td>3370.0000</td>\n",
       "      <td>3370.0000</td>\n",
       "      <td>3370.0000</td>\n",
       "      <td>3370.0000</td>\n",
       "    </tr>\n",
       "    <tr>\n",
       "      <th>mean</th>\n",
       "      <td>88694.7045</td>\n",
       "      <td>4.1424e-01</td>\n",
       "      <td>3.7062e-01</td>\n",
       "      <td>6.4659e-01</td>\n",
       "      <td>8.1632e-01</td>\n",
       "      <td>4.3442e-01</td>\n",
       "      <td>2.7596e-01</td>\n",
       "      <td>2.7418e-01</td>\n",
       "      <td>1.6113e-01</td>\n",
       "      <td>6.5875e-02</td>\n",
       "      <td>-3.1495e+02</td>\n",
       "      <td>3.5217e+00</td>\n",
       "      <td>-179.3804</td>\n",
       "      <td>-575.3510</td>\n",
       "      <td>1.8240</td>\n",
       "      <td>1.4828</td>\n",
       "      <td>43.3950</td>\n",
       "      <td>-36.4264</td>\n",
       "      <td>3.1585</td>\n",
       "      <td>9.6792</td>\n",
       "      <td>-108.3311</td>\n",
       "      <td>15.8665</td>\n",
       "      <td>1.9976</td>\n",
       "      <td>-668.3671</td>\n",
       "      <td>-653.4920</td>\n",
       "      <td>-592.8608</td>\n",
       "      <td>-682.8181</td>\n",
       "    </tr>\n",
       "    <tr>\n",
       "      <th>std</th>\n",
       "      <td>2873.9796</td>\n",
       "      <td>8.0251e-01</td>\n",
       "      <td>7.4544e-01</td>\n",
       "      <td>9.3956e-01</td>\n",
       "      <td>9.2447e-01</td>\n",
       "      <td>8.1940e-01</td>\n",
       "      <td>6.8943e-01</td>\n",
       "      <td>6.8453e-01</td>\n",
       "      <td>5.4794e-01</td>\n",
       "      <td>3.8654e-01</td>\n",
       "      <td>5.0103e+02</td>\n",
       "      <td>2.5913e+01</td>\n",
       "      <td>411.0441</td>\n",
       "      <td>556.1476</td>\n",
       "      <td>0.4959</td>\n",
       "      <td>0.4998</td>\n",
       "      <td>14.7655</td>\n",
       "      <td>207.4080</td>\n",
       "      <td>1.7493</td>\n",
       "      <td>10.7492</td>\n",
       "      <td>333.1727</td>\n",
       "      <td>26.6296</td>\n",
       "      <td>19.2252</td>\n",
       "      <td>544.8839</td>\n",
       "      <td>547.7959</td>\n",
       "      <td>554.8778</td>\n",
       "      <td>542.0855</td>\n",
       "    </tr>\n",
       "    <tr>\n",
       "      <th>min</th>\n",
       "      <td>83732.0000</td>\n",
       "      <td>5.3976e-79</td>\n",
       "      <td>5.3976e-79</td>\n",
       "      <td>5.3976e-79</td>\n",
       "      <td>5.3976e-79</td>\n",
       "      <td>5.3976e-79</td>\n",
       "      <td>5.3976e-79</td>\n",
       "      <td>5.3976e-79</td>\n",
       "      <td>5.3976e-79</td>\n",
       "      <td>5.3976e-79</td>\n",
       "      <td>-1.1110e+03</td>\n",
       "      <td>5.3976e-79</td>\n",
       "      <td>-1111.0000</td>\n",
       "      <td>-1111.0000</td>\n",
       "      <td>1.0000</td>\n",
       "      <td>1.0000</td>\n",
       "      <td>18.0000</td>\n",
       "      <td>-1111.0000</td>\n",
       "      <td>1.0000</td>\n",
       "      <td>1.0000</td>\n",
       "      <td>-1111.0000</td>\n",
       "      <td>1.0000</td>\n",
       "      <td>-1111.0000</td>\n",
       "      <td>-1111.0000</td>\n",
       "      <td>-1111.0000</td>\n",
       "      <td>-1111.0000</td>\n",
       "      <td>-1111.0000</td>\n",
       "    </tr>\n",
       "    <tr>\n",
       "      <th>25%</th>\n",
       "      <td>86175.2500</td>\n",
       "      <td>5.3976e-79</td>\n",
       "      <td>5.3976e-79</td>\n",
       "      <td>5.3976e-79</td>\n",
       "      <td>5.3976e-79</td>\n",
       "      <td>5.3976e-79</td>\n",
       "      <td>5.3976e-79</td>\n",
       "      <td>5.3976e-79</td>\n",
       "      <td>5.3976e-79</td>\n",
       "      <td>5.3976e-79</td>\n",
       "      <td>-1.1110e+03</td>\n",
       "      <td>1.0000e+00</td>\n",
       "      <td>1.0000</td>\n",
       "      <td>-1111.0000</td>\n",
       "      <td>2.0000</td>\n",
       "      <td>1.0000</td>\n",
       "      <td>31.0000</td>\n",
       "      <td>3.0000</td>\n",
       "      <td>2.0000</td>\n",
       "      <td>5.0000</td>\n",
       "      <td>0.8000</td>\n",
       "      <td>5.0000</td>\n",
       "      <td>1.0000</td>\n",
       "      <td>-1111.0000</td>\n",
       "      <td>-1111.0000</td>\n",
       "      <td>-1111.0000</td>\n",
       "      <td>-1111.0000</td>\n",
       "    </tr>\n",
       "    <tr>\n",
       "      <th>50%</th>\n",
       "      <td>88708.0000</td>\n",
       "      <td>5.3976e-79</td>\n",
       "      <td>5.3976e-79</td>\n",
       "      <td>5.3976e-79</td>\n",
       "      <td>1.0000e+00</td>\n",
       "      <td>5.3976e-79</td>\n",
       "      <td>5.3976e-79</td>\n",
       "      <td>5.3976e-79</td>\n",
       "      <td>5.3976e-79</td>\n",
       "      <td>5.3976e-79</td>\n",
       "      <td>5.3976e-79</td>\n",
       "      <td>2.0000e+00</td>\n",
       "      <td>2.0000</td>\n",
       "      <td>-1111.0000</td>\n",
       "      <td>2.0000</td>\n",
       "      <td>1.0000</td>\n",
       "      <td>43.0000</td>\n",
       "      <td>4.0000</td>\n",
       "      <td>3.0000</td>\n",
       "      <td>8.0000</td>\n",
       "      <td>1.6900</td>\n",
       "      <td>8.0000</td>\n",
       "      <td>3.0000</td>\n",
       "      <td>-1111.0000</td>\n",
       "      <td>-1111.0000</td>\n",
       "      <td>-1111.0000</td>\n",
       "      <td>-1111.0000</td>\n",
       "    </tr>\n",
       "    <tr>\n",
       "      <th>75%</th>\n",
       "      <td>91220.7500</td>\n",
       "      <td>1.0000e+00</td>\n",
       "      <td>1.0000e+00</td>\n",
       "      <td>1.0000e+00</td>\n",
       "      <td>1.0000e+00</td>\n",
       "      <td>1.0000e+00</td>\n",
       "      <td>5.3976e-79</td>\n",
       "      <td>5.3976e-79</td>\n",
       "      <td>5.3976e-79</td>\n",
       "      <td>5.3976e-79</td>\n",
       "      <td>5.3976e-79</td>\n",
       "      <td>3.0000e+00</td>\n",
       "      <td>3.0000</td>\n",
       "      <td>2.0000</td>\n",
       "      <td>2.0000</td>\n",
       "      <td>2.0000</td>\n",
       "      <td>56.0000</td>\n",
       "      <td>5.0000</td>\n",
       "      <td>4.0000</td>\n",
       "      <td>14.0000</td>\n",
       "      <td>3.3050</td>\n",
       "      <td>11.0000</td>\n",
       "      <td>3.0000</td>\n",
       "      <td>2.0000</td>\n",
       "      <td>2.0000</td>\n",
       "      <td>1.0000</td>\n",
       "      <td>2.0000</td>\n",
       "    </tr>\n",
       "    <tr>\n",
       "      <th>max</th>\n",
       "      <td>93702.0000</td>\n",
       "      <td>7.0000e+00</td>\n",
       "      <td>7.0000e+00</td>\n",
       "      <td>7.0000e+00</td>\n",
       "      <td>3.0000e+00</td>\n",
       "      <td>9.0000e+00</td>\n",
       "      <td>9.0000e+00</td>\n",
       "      <td>3.0000e+00</td>\n",
       "      <td>9.0000e+00</td>\n",
       "      <td>9.0000e+00</td>\n",
       "      <td>9.0000e+00</td>\n",
       "      <td>9.9900e+02</td>\n",
       "      <td>3.0000</td>\n",
       "      <td>2.0000</td>\n",
       "      <td>9.0000</td>\n",
       "      <td>2.0000</td>\n",
       "      <td>69.0000</td>\n",
       "      <td>5.0000</td>\n",
       "      <td>7.0000</td>\n",
       "      <td>99.0000</td>\n",
       "      <td>5.0000</td>\n",
       "      <td>99.0000</td>\n",
       "      <td>9.0000</td>\n",
       "      <td>9.0000</td>\n",
       "      <td>9.0000</td>\n",
       "      <td>9.0000</td>\n",
       "      <td>11.0000</td>\n",
       "    </tr>\n",
       "  </tbody>\n",
       "</table>\n",
       "</div>"
      ],
      "text/plain": [
       "             SEQN      DPQ010      DPQ020      DPQ030      DPQ040      DPQ050  \\\n",
       "count   3370.0000  3.3700e+03  3.3700e+03  3.3700e+03  3.3700e+03  3.3700e+03   \n",
       "mean   88694.7045  4.1424e-01  3.7062e-01  6.4659e-01  8.1632e-01  4.3442e-01   \n",
       "std     2873.9796  8.0251e-01  7.4544e-01  9.3956e-01  9.2447e-01  8.1940e-01   \n",
       "min    83732.0000  5.3976e-79  5.3976e-79  5.3976e-79  5.3976e-79  5.3976e-79   \n",
       "25%    86175.2500  5.3976e-79  5.3976e-79  5.3976e-79  5.3976e-79  5.3976e-79   \n",
       "50%    88708.0000  5.3976e-79  5.3976e-79  5.3976e-79  1.0000e+00  5.3976e-79   \n",
       "75%    91220.7500  1.0000e+00  1.0000e+00  1.0000e+00  1.0000e+00  1.0000e+00   \n",
       "max    93702.0000  7.0000e+00  7.0000e+00  7.0000e+00  3.0000e+00  9.0000e+00   \n",
       "\n",
       "           DPQ060      DPQ070      DPQ080      DPQ090      DPQ100     ALQ120Q  \\\n",
       "count  3.3700e+03  3.3700e+03  3.3700e+03  3.3700e+03  3.3700e+03  3.3700e+03   \n",
       "mean   2.7596e-01  2.7418e-01  1.6113e-01  6.5875e-02 -3.1495e+02  3.5217e+00   \n",
       "std    6.8943e-01  6.8453e-01  5.4794e-01  3.8654e-01  5.0103e+02  2.5913e+01   \n",
       "min    5.3976e-79  5.3976e-79  5.3976e-79  5.3976e-79 -1.1110e+03  5.3976e-79   \n",
       "25%    5.3976e-79  5.3976e-79  5.3976e-79  5.3976e-79 -1.1110e+03  1.0000e+00   \n",
       "50%    5.3976e-79  5.3976e-79  5.3976e-79  5.3976e-79  5.3976e-79  2.0000e+00   \n",
       "75%    5.3976e-79  5.3976e-79  5.3976e-79  5.3976e-79  5.3976e-79  3.0000e+00   \n",
       "max    9.0000e+00  3.0000e+00  9.0000e+00  9.0000e+00  9.0000e+00  9.9900e+02   \n",
       "\n",
       "         ALQ120U     DUQ430     DUQ240   RIAGENDR   RIDAGEYR   DMDEDUC2  \\\n",
       "count  3370.0000  3370.0000  3370.0000  3370.0000  3370.0000  3370.0000   \n",
       "mean   -179.3804  -575.3510     1.8240     1.4828    43.3950   -36.4264   \n",
       "std     411.0441   556.1476     0.4959     0.4998    14.7655   207.4080   \n",
       "min   -1111.0000 -1111.0000     1.0000     1.0000    18.0000 -1111.0000   \n",
       "25%       1.0000 -1111.0000     2.0000     1.0000    31.0000     3.0000   \n",
       "50%       2.0000 -1111.0000     2.0000     1.0000    43.0000     4.0000   \n",
       "75%       3.0000     2.0000     2.0000     2.0000    56.0000     5.0000   \n",
       "max       3.0000     2.0000     9.0000     2.0000    69.0000     5.0000   \n",
       "\n",
       "        DMDFMSIZ   INDFMIN2   INDFMMPI     IND235   INDFMMPC     SXQ295  \\\n",
       "count  3370.0000  3370.0000  3370.0000  3370.0000  3370.0000  3370.0000   \n",
       "mean      3.1585     9.6792  -108.3311    15.8665     1.9976  -668.3671   \n",
       "std       1.7493    10.7492   333.1727    26.6296    19.2252   544.8839   \n",
       "min       1.0000     1.0000 -1111.0000     1.0000 -1111.0000 -1111.0000   \n",
       "25%       2.0000     5.0000     0.8000     5.0000     1.0000 -1111.0000   \n",
       "50%       3.0000     8.0000     1.6900     8.0000     3.0000 -1111.0000   \n",
       "75%       4.0000    14.0000     3.3050    11.0000     3.0000     2.0000   \n",
       "max       7.0000    99.0000     5.0000    99.0000     9.0000     9.0000   \n",
       "\n",
       "          SXQ296     RHQ131     RHQ160  \n",
       "count  3370.0000  3370.0000  3370.0000  \n",
       "mean   -653.4920  -592.8608  -682.8181  \n",
       "std     547.7959   554.8778   542.0855  \n",
       "min   -1111.0000 -1111.0000 -1111.0000  \n",
       "25%   -1111.0000 -1111.0000 -1111.0000  \n",
       "50%   -1111.0000 -1111.0000 -1111.0000  \n",
       "75%       2.0000     1.0000     2.0000  \n",
       "max       9.0000     9.0000    11.0000  "
      ]
     },
     "execution_count": 11,
     "metadata": {},
     "output_type": "execute_result"
    }
   ],
   "source": [
    "df.describe().astype(float)"
   ]
  },
  {
   "cell_type": "markdown",
   "metadata": {},
   "source": [
    "## Mental Health"
   ]
  },
  {
   "cell_type": "markdown",
   "metadata": {},
   "source": [
    "Ignore all values that are different from 0, 1, 2, 3 for collumns resposible for Mental Health. Those which different from provided range are accepted as 0 (not to spoil the measures):"
   ]
  },
  {
   "cell_type": "code",
   "execution_count": 12,
   "metadata": {},
   "outputs": [],
   "source": [
    "df.loc[:, DEPRESSION_CODES] = df[DEPRESSION_CODES].apply(\n",
    "    lambda row: row.map(lambda value: value if value in [0, 1, 2, 3] else 0),\n",
    "    axis=1\n",
    ")"
   ]
  },
  {
   "cell_type": "markdown",
   "metadata": {},
   "source": [
    "#### Describe depression questionnaire answers (missing values are not counted):"
   ]
  },
  {
   "cell_type": "code",
   "execution_count": 13,
   "metadata": {},
   "outputs": [
    {
     "data": {
      "text/html": [
       "<div>\n",
       "<style scoped>\n",
       "    .dataframe tbody tr th:only-of-type {\n",
       "        vertical-align: middle;\n",
       "    }\n",
       "\n",
       "    .dataframe tbody tr th {\n",
       "        vertical-align: top;\n",
       "    }\n",
       "\n",
       "    .dataframe thead th {\n",
       "        text-align: right;\n",
       "    }\n",
       "</style>\n",
       "<table border=\"1\" class=\"dataframe\">\n",
       "  <thead>\n",
       "    <tr style=\"text-align: right;\">\n",
       "      <th></th>\n",
       "      <th>DPQ010</th>\n",
       "      <th>DPQ020</th>\n",
       "      <th>DPQ030</th>\n",
       "      <th>DPQ040</th>\n",
       "      <th>DPQ050</th>\n",
       "      <th>DPQ060</th>\n",
       "      <th>DPQ070</th>\n",
       "      <th>DPQ080</th>\n",
       "      <th>DPQ090</th>\n",
       "      <th>DPQ100</th>\n",
       "    </tr>\n",
       "    <tr>\n",
       "      <th>ANSWER VALUE</th>\n",
       "      <th></th>\n",
       "      <th></th>\n",
       "      <th></th>\n",
       "      <th></th>\n",
       "      <th></th>\n",
       "      <th></th>\n",
       "      <th></th>\n",
       "      <th></th>\n",
       "      <th></th>\n",
       "      <th></th>\n",
       "    </tr>\n",
       "  </thead>\n",
       "  <tbody>\n",
       "    <tr>\n",
       "      <th>0.0</th>\n",
       "      <td>2463</td>\n",
       "      <td>2510</td>\n",
       "      <td>2003</td>\n",
       "      <td>1516</td>\n",
       "      <td>2424</td>\n",
       "      <td>2759</td>\n",
       "      <td>2784</td>\n",
       "      <td>3019</td>\n",
       "      <td>3232</td>\n",
       "      <td>2787</td>\n",
       "    </tr>\n",
       "    <tr>\n",
       "      <th>1.0</th>\n",
       "      <td>584</td>\n",
       "      <td>604</td>\n",
       "      <td>838</td>\n",
       "      <td>1247</td>\n",
       "      <td>609</td>\n",
       "      <td>412</td>\n",
       "      <td>364</td>\n",
       "      <td>227</td>\n",
       "      <td>93</td>\n",
       "      <td>483</td>\n",
       "    </tr>\n",
       "    <tr>\n",
       "      <th>2.0</th>\n",
       "      <td>178</td>\n",
       "      <td>144</td>\n",
       "      <td>253</td>\n",
       "      <td>317</td>\n",
       "      <td>165</td>\n",
       "      <td>95</td>\n",
       "      <td>106</td>\n",
       "      <td>65</td>\n",
       "      <td>22</td>\n",
       "      <td>69</td>\n",
       "    </tr>\n",
       "    <tr>\n",
       "      <th>3.0</th>\n",
       "      <td>145</td>\n",
       "      <td>112</td>\n",
       "      <td>276</td>\n",
       "      <td>290</td>\n",
       "      <td>172</td>\n",
       "      <td>104</td>\n",
       "      <td>116</td>\n",
       "      <td>59</td>\n",
       "      <td>23</td>\n",
       "      <td>31</td>\n",
       "    </tr>\n",
       "    <tr>\n",
       "      <th>TOTAL</th>\n",
       "      <td>3370</td>\n",
       "      <td>3370</td>\n",
       "      <td>3370</td>\n",
       "      <td>3370</td>\n",
       "      <td>3370</td>\n",
       "      <td>3370</td>\n",
       "      <td>3370</td>\n",
       "      <td>3370</td>\n",
       "      <td>3370</td>\n",
       "      <td>3370</td>\n",
       "    </tr>\n",
       "  </tbody>\n",
       "</table>\n",
       "</div>"
      ],
      "text/plain": [
       "              DPQ010  DPQ020  DPQ030  DPQ040  DPQ050  DPQ060  DPQ070  DPQ080  \\\n",
       "ANSWER VALUE                                                                   \n",
       "0.0             2463    2510    2003    1516    2424    2759    2784    3019   \n",
       "1.0              584     604     838    1247     609     412     364     227   \n",
       "2.0              178     144     253     317     165      95     106      65   \n",
       "3.0              145     112     276     290     172     104     116      59   \n",
       "TOTAL           3370    3370    3370    3370    3370    3370    3370    3370   \n",
       "\n",
       "              DPQ090  DPQ100  \n",
       "ANSWER VALUE                  \n",
       "0.0             3232    2787  \n",
       "1.0               93     483  \n",
       "2.0               22      69  \n",
       "3.0               23      31  \n",
       "TOTAL           3370    3370  "
      ]
     },
     "execution_count": 13,
     "metadata": {},
     "output_type": "execute_result"
    }
   ],
   "source": [
    "depression_qst_description = df[DEPRESSION_CODES].apply(pd.Series.value_counts)#[1:9]\n",
    "depression_qst_description.index.name = \"ANSWER VALUE\"\n",
    "depression_qst_description.loc[\"TOTAL\", :] = depression_qst_description.apply(np.sum)\n",
    "depression_qst_description.fillna(0).astype(int)"
   ]
  },
  {
   "cell_type": "markdown",
   "metadata": {},
   "source": [
    "#### Calculate depression score\n",
    "It represents the sum of the values for the rows of Mental Health related features (it consists of 10 questions).\n",
    "\n",
    "Look for *Analytic notes* In [NHANES Mental health data documentation](https://wwwn.cdc.gov/Nchs/Nhanes/2013-2014/DPQ_H.htm) for details."
   ]
  },
  {
   "cell_type": "code",
   "execution_count": 14,
   "metadata": {},
   "outputs": [],
   "source": [
    "df.loc[:, DEPRESSION_SCORE] = df[DEPRESSION_CODES].sum(axis=1)"
   ]
  },
  {
   "cell_type": "markdown",
   "metadata": {},
   "source": [
    "#### Separate surveyed on 5 groups:\n",
    "\n",
    "1. Not depressed at all 0-5\n",
    "2. Mild depression 5-10\n",
    "3. Moderate Depression 10-15\n",
    "4. Moderately Severe Depression 15-20\n",
    "5. Severe Depression 20+\n",
    "\n",
    "According to Analytic notes In [NHANES Mental health data documentation](https://wwwn.cdc.gov/Nchs/Nhanes/2013-2014/DPQ_H.htm) depression is scored in integer numbers from 0 to 27.\n",
    "However there are some subjects in the table which got 27-30 score. Let them be in *Severe Depression* group.\n",
    "\n",
    "For future analytical mesurements people with depression score 10 and above are accepted as depressed people.\n",
    "\n",
    "Provided groups are defined according to [Validity of a brief depression severity measure](https://www.ncbi.nlm.nih.gov/pubmed/11556941)"
   ]
  },
  {
   "cell_type": "code",
   "execution_count": 15,
   "metadata": {},
   "outputs": [],
   "source": [
    "depr_bins = [-1, 5, 10, 15, 20, 31]\n",
    "depr_bin_labels = [\"Not Depressed\", \"Mild\", \"Moderate\", \"Moderately Severe\", \"Severe\"]\n",
    "\n",
    "df[DEPRESSION_GROUP] = pd.cut(df[DEPRESSION_SCORE], depr_bins, labels=depr_bin_labels)\n",
    "df[DEPRESSED] = df[DEPRESSION_SCORE].map(lambda x: x >= 10)"
   ]
  },
  {
   "cell_type": "code",
   "execution_count": 16,
   "metadata": {},
   "outputs": [],
   "source": [
    "depression_groups = df.groupby(DEPRESSION_GROUP).size()\n",
    "depression_groups_percentile = depression_groups / depression_groups.sum() * 100"
   ]
  },
  {
   "cell_type": "markdown",
   "metadata": {},
   "source": [
    "People who thought at least several times over the last two weeks (at the moment when survey was processed) they would be better of dead"
   ]
  },
  {
   "cell_type": "code",
   "execution_count": 17,
   "metadata": {},
   "outputs": [],
   "source": [
    "depression_suicidal = df[df[DEPRESSION_GROUP].isin(depr_bin_labels[-3:])][\"DPQ090\"].value_counts()\n",
    "depression_suicidal_perc = utils.percentage(depression_suicidal)"
   ]
  },
  {
   "cell_type": "markdown",
   "metadata": {},
   "source": [
    "## Mental Health vs Demographic:"
   ]
  },
  {
   "cell_type": "markdown",
   "metadata": {},
   "source": [
    "#### Separate items on 4 age groups:"
   ]
  },
  {
   "cell_type": "code",
   "execution_count": 18,
   "metadata": {},
   "outputs": [],
   "source": [
    "bins = [17, 30, 43, 56, 150]\n",
    "labels = [\"17-29\", \"30-42\", \"43-55\", \"56-69\"]\n",
    "df[AGE_GROUP] = pd.cut(df[AGE], bins=bins, labels=labels)"
   ]
  },
  {
   "cell_type": "markdown",
   "metadata": {},
   "source": [
    "### Mental Health vs Age vs Race:"
   ]
  },
  {
   "cell_type": "code",
   "execution_count": 19,
   "metadata": {},
   "outputs": [
    {
     "data": {
      "text/html": [
       "<div>\n",
       "<style scoped>\n",
       "    .dataframe tbody tr th:only-of-type {\n",
       "        vertical-align: middle;\n",
       "    }\n",
       "\n",
       "    .dataframe tbody tr th {\n",
       "        vertical-align: top;\n",
       "    }\n",
       "\n",
       "    .dataframe thead th {\n",
       "        text-align: right;\n",
       "    }\n",
       "</style>\n",
       "<table border=\"1\" class=\"dataframe\">\n",
       "  <thead>\n",
       "    <tr style=\"text-align: right;\">\n",
       "      <th>RIDRETH3</th>\n",
       "      <th>Mexican American</th>\n",
       "      <th>Non-Hispanic Asian</th>\n",
       "      <th>Non-Hispanic Black</th>\n",
       "      <th>Non-Hispanic White</th>\n",
       "      <th>Other Hispanic</th>\n",
       "    </tr>\n",
       "    <tr>\n",
       "      <th>RIDAGEYRGR</th>\n",
       "      <th></th>\n",
       "      <th></th>\n",
       "      <th></th>\n",
       "      <th></th>\n",
       "      <th></th>\n",
       "    </tr>\n",
       "  </thead>\n",
       "  <tbody>\n",
       "    <tr>\n",
       "      <th>17-29</th>\n",
       "      <td>8.0247</td>\n",
       "      <td>6.1856</td>\n",
       "      <td>12.2222</td>\n",
       "      <td>8.2090</td>\n",
       "      <td>8.1395</td>\n",
       "    </tr>\n",
       "    <tr>\n",
       "      <th>30-42</th>\n",
       "      <td>8.6420</td>\n",
       "      <td>3.3708</td>\n",
       "      <td>14.7368</td>\n",
       "      <td>12.5461</td>\n",
       "      <td>9.3458</td>\n",
       "    </tr>\n",
       "    <tr>\n",
       "      <th>43-55</th>\n",
       "      <td>5.6000</td>\n",
       "      <td>5.0633</td>\n",
       "      <td>3.8043</td>\n",
       "      <td>12.7036</td>\n",
       "      <td>13.3333</td>\n",
       "    </tr>\n",
       "    <tr>\n",
       "      <th>56-69</th>\n",
       "      <td>12.5000</td>\n",
       "      <td>4.2553</td>\n",
       "      <td>7.3529</td>\n",
       "      <td>14.8789</td>\n",
       "      <td>12.8000</td>\n",
       "    </tr>\n",
       "  </tbody>\n",
       "</table>\n",
       "</div>"
      ],
      "text/plain": [
       "RIDRETH3    Mexican American  Non-Hispanic Asian  Non-Hispanic Black  \\\n",
       "RIDAGEYRGR                                                             \n",
       "17-29                 8.0247              6.1856             12.2222   \n",
       "30-42                 8.6420              3.3708             14.7368   \n",
       "43-55                 5.6000              5.0633              3.8043   \n",
       "56-69                12.5000              4.2553              7.3529   \n",
       "\n",
       "RIDRETH3    Non-Hispanic White  Other Hispanic  \n",
       "RIDAGEYRGR                                      \n",
       "17-29                   8.2090          8.1395  \n",
       "30-42                  12.5461          9.3458  \n",
       "43-55                  12.7036         13.3333  \n",
       "56-69                  14.8789         12.8000  "
      ]
     },
     "execution_count": 19,
     "metadata": {},
     "output_type": "execute_result"
    }
   ],
   "source": [
    "races_age = df.groupby([RACE, AGE_GROUP, DEPRESSED]).size().unstack().T.apply(utils.percentage).T[True].unstack()[:5]\n",
    "races = df.groupby([RACE ,DEPRESSED]).size().unstack().T.apply(utils.percentage).T[:5]\n",
    "races_age.T"
   ]
  },
  {
   "cell_type": "markdown",
   "metadata": {},
   "source": [
    "### Mental Health vs Age vs Gender:"
   ]
  },
  {
   "cell_type": "code",
   "execution_count": 20,
   "metadata": {},
   "outputs": [
    {
     "data": {
      "text/html": [
       "<div>\n",
       "<style scoped>\n",
       "    .dataframe tbody tr th:only-of-type {\n",
       "        vertical-align: middle;\n",
       "    }\n",
       "\n",
       "    .dataframe tbody tr th {\n",
       "        vertical-align: top;\n",
       "    }\n",
       "\n",
       "    .dataframe thead tr th {\n",
       "        text-align: left;\n",
       "    }\n",
       "\n",
       "    .dataframe thead tr:last-of-type th {\n",
       "        text-align: right;\n",
       "    }\n",
       "</style>\n",
       "<table border=\"1\" class=\"dataframe\">\n",
       "  <thead>\n",
       "    <tr>\n",
       "      <th>RIDAGEYRGR</th>\n",
       "      <th colspan=\"2\" halign=\"left\">17-29</th>\n",
       "      <th colspan=\"2\" halign=\"left\">30-42</th>\n",
       "      <th colspan=\"2\" halign=\"left\">43-55</th>\n",
       "      <th colspan=\"2\" halign=\"left\">56-69</th>\n",
       "    </tr>\n",
       "    <tr>\n",
       "      <th>DPQMDF</th>\n",
       "      <th>False</th>\n",
       "      <th>True</th>\n",
       "      <th>False</th>\n",
       "      <th>True</th>\n",
       "      <th>False</th>\n",
       "      <th>True</th>\n",
       "      <th>False</th>\n",
       "      <th>True</th>\n",
       "    </tr>\n",
       "    <tr>\n",
       "      <th>RIAGENDR</th>\n",
       "      <th></th>\n",
       "      <th></th>\n",
       "      <th></th>\n",
       "      <th></th>\n",
       "      <th></th>\n",
       "      <th></th>\n",
       "      <th></th>\n",
       "      <th></th>\n",
       "    </tr>\n",
       "  </thead>\n",
       "  <tbody>\n",
       "    <tr>\n",
       "      <th>1.0</th>\n",
       "      <td>387</td>\n",
       "      <td>30</td>\n",
       "      <td>430</td>\n",
       "      <td>35</td>\n",
       "      <td>365</td>\n",
       "      <td>29</td>\n",
       "      <td>417</td>\n",
       "      <td>50</td>\n",
       "    </tr>\n",
       "    <tr>\n",
       "      <th>2.0</th>\n",
       "      <td>373</td>\n",
       "      <td>46</td>\n",
       "      <td>345</td>\n",
       "      <td>59</td>\n",
       "      <td>387</td>\n",
       "      <td>49</td>\n",
       "      <td>322</td>\n",
       "      <td>46</td>\n",
       "    </tr>\n",
       "  </tbody>\n",
       "</table>\n",
       "</div>"
      ],
      "text/plain": [
       "RIDAGEYRGR 17-29       30-42       43-55       56-69      \n",
       "DPQMDF     False True  False True  False True  False True \n",
       "RIAGENDR                                                  \n",
       "1.0          387    30   430    35   365    29   417    50\n",
       "2.0          373    46   345    59   387    49   322    46"
      ]
     },
     "execution_count": 20,
     "metadata": {},
     "output_type": "execute_result"
    }
   ],
   "source": [
    "gender_depr_age = df.groupby([AGE_GROUP, DEPRESSED, GENDER]).size().unstack()\n",
    "male_age_depr = gender_depr_age[1].unstack().apply(utils.percentage, axis=1)\n",
    "female_age_depr = gender_depr_age[2].unstack().apply(utils.percentage, axis=1)\n",
    "depr_age = df.groupby([AGE_GROUP, DEPRESSED]).size().unstack().apply(utils.percentage, axis=1)\n",
    "gender_depr_age.T"
   ]
  },
  {
   "cell_type": "markdown",
   "metadata": {},
   "source": [
    "### Mental Health vs Marital Status:"
   ]
  },
  {
   "cell_type": "code",
   "execution_count": 21,
   "metadata": {},
   "outputs": [
    {
     "data": {
      "text/html": [
       "<div>\n",
       "<style scoped>\n",
       "    .dataframe tbody tr th:only-of-type {\n",
       "        vertical-align: middle;\n",
       "    }\n",
       "\n",
       "    .dataframe tbody tr th {\n",
       "        vertical-align: top;\n",
       "    }\n",
       "\n",
       "    .dataframe thead th {\n",
       "        text-align: right;\n",
       "    }\n",
       "</style>\n",
       "<table border=\"1\" class=\"dataframe\">\n",
       "  <thead>\n",
       "    <tr style=\"text-align: right;\">\n",
       "      <th>DMDMARTL</th>\n",
       "      <th>Living with partner</th>\n",
       "      <th>Married</th>\n",
       "      <th>Never married</th>\n",
       "      <th>Separated</th>\n",
       "      <th>Widowed</th>\n",
       "    </tr>\n",
       "    <tr>\n",
       "      <th>DPQMDF</th>\n",
       "      <th></th>\n",
       "      <th></th>\n",
       "      <th></th>\n",
       "      <th></th>\n",
       "      <th></th>\n",
       "    </tr>\n",
       "  </thead>\n",
       "  <tbody>\n",
       "    <tr>\n",
       "      <th>False</th>\n",
       "      <td>89.8438</td>\n",
       "      <td>93.7808</td>\n",
       "      <td>86.0465</td>\n",
       "      <td>79.4872</td>\n",
       "      <td>86.2069</td>\n",
       "    </tr>\n",
       "    <tr>\n",
       "      <th>True</th>\n",
       "      <td>10.1562</td>\n",
       "      <td>6.2192</td>\n",
       "      <td>13.9535</td>\n",
       "      <td>20.5128</td>\n",
       "      <td>13.7931</td>\n",
       "    </tr>\n",
       "  </tbody>\n",
       "</table>\n",
       "</div>"
      ],
      "text/plain": [
       "DMDMARTL  Living with partner  Married  Never married  Separated  Widowed\n",
       "DPQMDF                                                                   \n",
       "False                 89.8438  93.7808        86.0465    79.4872  86.2069\n",
       "True                  10.1562   6.2192        13.9535    20.5128  13.7931"
      ]
     },
     "execution_count": 21,
     "metadata": {},
     "output_type": "execute_result"
    }
   ],
   "source": [
    "marital_gender = df.groupby([MARITAL_STATUS, DEPRESSED, GENDER]).size().unstack()\n",
    "marital_male = marital_gender[1.].unstack().apply(utils.percentage, axis=1)[1:10]\n",
    "marital_female = marital_gender[2.].unstack().apply(utils.percentage, axis=1)[1:10]\n",
    "marital_total = df.groupby([MARITAL_STATUS, DEPRESSED]).size().unstack().apply(utils.percentage, axis=1)[1:10]\n",
    "marital_total.T"
   ]
  },
  {
   "cell_type": "markdown",
   "metadata": {},
   "source": [
    "### Mental Health vs Income:"
   ]
  },
  {
   "cell_type": "markdown",
   "metadata": {},
   "source": [
    "#### Separate people on 4 groups accordings to the Family monthly income:\n",
    "\n",
    "1. less than \\\\$ 1650   \n",
    "2. \\\\$ 1650 - \\\\$ 4599\n",
    "3. \\\\$ 4600 and above"
   ]
  },
  {
   "cell_type": "code",
   "execution_count": 22,
   "metadata": {},
   "outputs": [],
   "source": [
    "df[FAMILY_INCOME_GROUP] = pd.cut(df[FAMILY_INCOME], bins=[0, 4, 8, 13], labels=[\"$1649 and less\", \"\\\\$1650-\\\\$4599\", \"$4600 and above\"])"
   ]
  },
  {
   "cell_type": "code",
   "execution_count": 23,
   "metadata": {},
   "outputs": [
    {
     "data": {
      "text/html": [
       "<div>\n",
       "<style scoped>\n",
       "    .dataframe tbody tr th:only-of-type {\n",
       "        vertical-align: middle;\n",
       "    }\n",
       "\n",
       "    .dataframe tbody tr th {\n",
       "        vertical-align: top;\n",
       "    }\n",
       "\n",
       "    .dataframe thead th {\n",
       "        text-align: right;\n",
       "    }\n",
       "</style>\n",
       "<table border=\"1\" class=\"dataframe\">\n",
       "  <thead>\n",
       "    <tr style=\"text-align: right;\">\n",
       "      <th>DPQMDF</th>\n",
       "      <th>False</th>\n",
       "      <th>True</th>\n",
       "    </tr>\n",
       "    <tr>\n",
       "      <th>IND235GR</th>\n",
       "      <th></th>\n",
       "      <th></th>\n",
       "    </tr>\n",
       "  </thead>\n",
       "  <tbody>\n",
       "    <tr>\n",
       "      <th>$1649 and less</th>\n",
       "      <td>608</td>\n",
       "      <td>144</td>\n",
       "    </tr>\n",
       "    <tr>\n",
       "      <th>\\$1650-\\$4599</th>\n",
       "      <td>1103</td>\n",
       "      <td>113</td>\n",
       "    </tr>\n",
       "    <tr>\n",
       "      <th>$4600 and above</th>\n",
       "      <td>1017</td>\n",
       "      <td>50</td>\n",
       "    </tr>\n",
       "  </tbody>\n",
       "</table>\n",
       "</div>"
      ],
      "text/plain": [
       "DPQMDF           False  True \n",
       "IND235GR                     \n",
       "$1649 and less     608    144\n",
       "\\$1650-\\$4599     1103    113\n",
       "$4600 and above   1017     50"
      ]
     },
     "execution_count": 23,
     "metadata": {},
     "output_type": "execute_result"
    }
   ],
   "source": [
    "income = df.groupby([FAMILY_INCOME_GROUP, DEPRESSED]).size().unstack()\n",
    "income"
   ]
  },
  {
   "cell_type": "code",
   "execution_count": 24,
   "metadata": {},
   "outputs": [],
   "source": [
    "income_race = df.groupby([FAMILY_INCOME_GROUP, RACE, DEPRESSED]).size().unstack().T.apply(utils.percentage).T[True].unstack().iloc[:,:-1]\n",
    "income_total = df.groupby([FAMILY_INCOME_GROUP, DEPRESSED]).size().unstack().T.apply(utils.percentage).T"
   ]
  },
  {
   "cell_type": "markdown",
   "metadata": {},
   "source": [
    "### Mental Health vs Education level vs Income: "
   ]
  },
  {
   "cell_type": "code",
   "execution_count": 25,
   "metadata": {},
   "outputs": [
    {
     "data": {
      "text/html": [
       "<div>\n",
       "<style scoped>\n",
       "    .dataframe tbody tr th:only-of-type {\n",
       "        vertical-align: middle;\n",
       "    }\n",
       "\n",
       "    .dataframe tbody tr th {\n",
       "        vertical-align: top;\n",
       "    }\n",
       "\n",
       "    .dataframe thead th {\n",
       "        text-align: right;\n",
       "    }\n",
       "</style>\n",
       "<table border=\"1\" class=\"dataframe\">\n",
       "  <thead>\n",
       "    <tr style=\"text-align: right;\">\n",
       "      <th>DPQMDF</th>\n",
       "      <th>False</th>\n",
       "      <th>True</th>\n",
       "    </tr>\n",
       "    <tr>\n",
       "      <th>DMDEDUC2</th>\n",
       "      <th></th>\n",
       "      <th></th>\n",
       "    </tr>\n",
       "  </thead>\n",
       "  <tbody>\n",
       "    <tr>\n",
       "      <th>1.0</th>\n",
       "      <td>85.7741</td>\n",
       "      <td>14.2259</td>\n",
       "    </tr>\n",
       "    <tr>\n",
       "      <th>2.0</th>\n",
       "      <td>86.5753</td>\n",
       "      <td>13.4247</td>\n",
       "    </tr>\n",
       "    <tr>\n",
       "      <th>3.0</th>\n",
       "      <td>88.9488</td>\n",
       "      <td>11.0512</td>\n",
       "    </tr>\n",
       "    <tr>\n",
       "      <th>4.0</th>\n",
       "      <td>89.1892</td>\n",
       "      <td>10.8108</td>\n",
       "    </tr>\n",
       "    <tr>\n",
       "      <th>5.0</th>\n",
       "      <td>93.8870</td>\n",
       "      <td>6.1130</td>\n",
       "    </tr>\n",
       "  </tbody>\n",
       "</table>\n",
       "</div>"
      ],
      "text/plain": [
       "DPQMDF      False    True \n",
       "DMDEDUC2                  \n",
       "1.0       85.7741  14.2259\n",
       "2.0       86.5753  13.4247\n",
       "3.0       88.9488  11.0512\n",
       "4.0       89.1892  10.8108\n",
       "5.0       93.8870   6.1130"
      ]
     },
     "execution_count": 25,
     "metadata": {},
     "output_type": "execute_result"
    }
   ],
   "source": [
    "df.groupby([DEPRESSED, EDUCATION]).size().unstack().iloc[:, 1:].T.apply(utils.percentage, axis=1)"
   ]
  },
  {
   "cell_type": "code",
   "execution_count": 26,
   "metadata": {},
   "outputs": [],
   "source": [
    "high_school_ed = df[(df[EDUCATION]==3) & (df[FAMILY_INCOME] < 15)][FAMILY_INCOME]\n",
    "college_ed = df[(df[EDUCATION]==4) & (df[FAMILY_INCOME] < 15)][FAMILY_INCOME]\n",
    "univers_ed = df[(df[EDUCATION]==5) & (df[FAMILY_INCOME] < 15)][ FAMILY_INCOME]"
   ]
  },
  {
   "cell_type": "markdown",
   "metadata": {},
   "source": [
    "## Mental Health vs Sexual Behaviour"
   ]
  },
  {
   "cell_type": "code",
   "execution_count": 27,
   "metadata": {},
   "outputs": [
    {
     "data": {
      "text/html": [
       "<div>\n",
       "<style scoped>\n",
       "    .dataframe tbody tr th:only-of-type {\n",
       "        vertical-align: middle;\n",
       "    }\n",
       "\n",
       "    .dataframe tbody tr th {\n",
       "        vertical-align: top;\n",
       "    }\n",
       "\n",
       "    .dataframe thead th {\n",
       "        text-align: right;\n",
       "    }\n",
       "</style>\n",
       "<table border=\"1\" class=\"dataframe\">\n",
       "  <thead>\n",
       "    <tr style=\"text-align: right;\">\n",
       "      <th>DPQMDF</th>\n",
       "      <th>False</th>\n",
       "      <th>True</th>\n",
       "    </tr>\n",
       "    <tr>\n",
       "      <th>SXQBOTH</th>\n",
       "      <th></th>\n",
       "      <th></th>\n",
       "    </tr>\n",
       "  </thead>\n",
       "  <tbody>\n",
       "    <tr>\n",
       "      <th>Bisexual</th>\n",
       "      <td>80.7339</td>\n",
       "      <td>19.2661</td>\n",
       "    </tr>\n",
       "    <tr>\n",
       "      <th>Gay</th>\n",
       "      <td>83.3333</td>\n",
       "      <td>16.6667</td>\n",
       "    </tr>\n",
       "    <tr>\n",
       "      <th>Straight</th>\n",
       "      <td>90.5350</td>\n",
       "      <td>9.4650</td>\n",
       "    </tr>\n",
       "  </tbody>\n",
       "</table>\n",
       "</div>"
      ],
      "text/plain": [
       "DPQMDF      False    True \n",
       "SXQBOTH                   \n",
       "Bisexual  80.7339  19.2661\n",
       "Gay       83.3333  16.6667\n",
       "Straight  90.5350   9.4650"
      ]
     },
     "execution_count": 27,
     "metadata": {},
     "output_type": "execute_result"
    }
   ],
   "source": [
    "sex_orientation_gender = df.groupby([ORIENTATION_BOTH, DEPRESSED, GENDER]).size().unstack()\n",
    "sex_orientation_male = sex_orientation_gender[1].unstack().apply(utils.percentage, axis=1)[1:]\n",
    "sex_orientation_female =sex_orientation_gender[2].unstack().apply(utils.percentage, axis=1)[1:]\n",
    "sex_orientation_total = df.groupby([ORIENTATION_BOTH, DEPRESSED]).size().unstack().apply(utils.percentage, axis=1)[1:]\n",
    "sex_orientation_total"
   ]
  },
  {
   "cell_type": "markdown",
   "metadata": {},
   "source": [
    "## Mental Health vs Drug use:"
   ]
  },
  {
   "cell_type": "markdown",
   "metadata": {},
   "source": [
    "### People who were on rehabilitation grouped with depression group:"
   ]
  },
  {
   "cell_type": "code",
   "execution_count": 28,
   "metadata": {},
   "outputs": [
    {
     "data": {
      "text/html": [
       "<div>\n",
       "<style scoped>\n",
       "    .dataframe tbody tr th:only-of-type {\n",
       "        vertical-align: middle;\n",
       "    }\n",
       "\n",
       "    .dataframe tbody tr th {\n",
       "        vertical-align: top;\n",
       "    }\n",
       "\n",
       "    .dataframe thead th {\n",
       "        text-align: right;\n",
       "    }\n",
       "</style>\n",
       "<table border=\"1\" class=\"dataframe\">\n",
       "  <thead>\n",
       "    <tr style=\"text-align: right;\">\n",
       "      <th>DPQGR</th>\n",
       "      <th>Not Depressed</th>\n",
       "      <th>Mild</th>\n",
       "      <th>Moderate</th>\n",
       "      <th>Moderately Severe</th>\n",
       "      <th>Severe</th>\n",
       "    </tr>\n",
       "    <tr>\n",
       "      <th>DUQ430</th>\n",
       "      <th></th>\n",
       "      <th></th>\n",
       "      <th></th>\n",
       "      <th></th>\n",
       "      <th></th>\n",
       "    </tr>\n",
       "  </thead>\n",
       "  <tbody>\n",
       "    <tr>\n",
       "      <th>1.0</th>\n",
       "      <td>62.4161</td>\n",
       "      <td>20.8054</td>\n",
       "      <td>7.3826</td>\n",
       "      <td>4.698</td>\n",
       "      <td>4.6980</td>\n",
       "    </tr>\n",
       "    <tr>\n",
       "      <th>2.0</th>\n",
       "      <td>74.2702</td>\n",
       "      <td>15.6823</td>\n",
       "      <td>5.4990</td>\n",
       "      <td>2.444</td>\n",
       "      <td>2.1045</td>\n",
       "    </tr>\n",
       "  </tbody>\n",
       "</table>\n",
       "</div>"
      ],
      "text/plain": [
       "DPQGR   Not Depressed     Mild  Moderate  Moderately Severe  Severe\n",
       "DUQ430                                                             \n",
       "1.0           62.4161  20.8054    7.3826              4.698  4.6980\n",
       "2.0           74.2702  15.6823    5.4990              2.444  2.1045"
      ]
     },
     "execution_count": 28,
     "metadata": {},
     "output_type": "execute_result"
    }
   ],
   "source": [
    "rehab = pd.crosstab(df[DEPRESSION_GROUP], df[\"DUQ430\"]).T[1:]\n",
    "rehab_perc = rehab.apply(utils.percentage, axis=1)\n",
    "rehab_perc"
   ]
  },
  {
   "cell_type": "markdown",
   "metadata": {},
   "source": [
    "### People who were on rehabilitation separated on depressed and not:"
   ]
  },
  {
   "cell_type": "code",
   "execution_count": 29,
   "metadata": {},
   "outputs": [],
   "source": [
    "rehab_2 = pd.crosstab(df[DEPRESSED], df[\"DUQ430\"]).T[1:]\n",
    "rehab_2_perc = rehab_2.apply(utils.percentage, axis=1)"
   ]
  },
  {
   "cell_type": "markdown",
   "metadata": {},
   "source": [
    "### People who tried cocaine/heroine/methamphitamine groupped with depression level:"
   ]
  },
  {
   "cell_type": "code",
   "execution_count": 30,
   "metadata": {},
   "outputs": [
    {
     "data": {
      "text/html": [
       "<div>\n",
       "<style scoped>\n",
       "    .dataframe tbody tr th:only-of-type {\n",
       "        vertical-align: middle;\n",
       "    }\n",
       "\n",
       "    .dataframe tbody tr th {\n",
       "        vertical-align: top;\n",
       "    }\n",
       "\n",
       "    .dataframe thead th {\n",
       "        text-align: right;\n",
       "    }\n",
       "</style>\n",
       "<table border=\"1\" class=\"dataframe\">\n",
       "  <thead>\n",
       "    <tr style=\"text-align: right;\">\n",
       "      <th>DPQGR</th>\n",
       "      <th>Not Depressed</th>\n",
       "      <th>Mild</th>\n",
       "      <th>Moderate</th>\n",
       "      <th>Moderately Severe</th>\n",
       "      <th>Severe</th>\n",
       "    </tr>\n",
       "    <tr>\n",
       "      <th>DUQ240</th>\n",
       "      <th></th>\n",
       "      <th></th>\n",
       "      <th></th>\n",
       "      <th></th>\n",
       "      <th></th>\n",
       "    </tr>\n",
       "  </thead>\n",
       "  <tbody>\n",
       "    <tr>\n",
       "      <th>1.0</th>\n",
       "      <td>70.2194</td>\n",
       "      <td>17.8683</td>\n",
       "      <td>6.2696</td>\n",
       "      <td>2.8213</td>\n",
       "      <td>2.8213</td>\n",
       "    </tr>\n",
       "    <tr>\n",
       "      <th>2.0</th>\n",
       "      <td>79.0459</td>\n",
       "      <td>13.2477</td>\n",
       "      <td>4.4771</td>\n",
       "      <td>1.9450</td>\n",
       "      <td>1.2844</td>\n",
       "    </tr>\n",
       "  </tbody>\n",
       "</table>\n",
       "</div>"
      ],
      "text/plain": [
       "DPQGR   Not Depressed     Mild  Moderate  Moderately Severe  Severe\n",
       "DUQ240                                                             \n",
       "1.0           70.2194  17.8683    6.2696             2.8213  2.8213\n",
       "2.0           79.0459  13.2477    4.4771             1.9450  1.2844"
      ]
     },
     "execution_count": 30,
     "metadata": {},
     "output_type": "execute_result"
    }
   ],
   "source": [
    "tried_drugs = df.groupby([\"DUQ240\", DEPRESSION_GROUP]).size().unstack()[0:2]\n",
    "tried_drugs_perc = tried_drugs.apply(utils.percentage, axis=1)\n",
    "tried_drugs_perc"
   ]
  },
  {
   "cell_type": "markdown",
   "metadata": {},
   "source": [
    "### People who tried cocaine/heroine/methamphitamine separated on depressed and not"
   ]
  },
  {
   "cell_type": "code",
   "execution_count": 31,
   "metadata": {},
   "outputs": [],
   "source": [
    "tried_drugs_2 = df.groupby([\"DUQ240\", DEPRESSED]).size().unstack()[0:2]\n",
    "tried_drugs_2_perc = tried_drugs_2.apply(lambda row: row/row.sum() * 100, axis=1)"
   ]
  },
  {
   "cell_type": "markdown",
   "metadata": {},
   "source": [
    "## Mental Health vs Pregnancy:"
   ]
  },
  {
   "cell_type": "code",
   "execution_count": 32,
   "metadata": {},
   "outputs": [
    {
     "data": {
      "text/html": [
       "<div>\n",
       "<style scoped>\n",
       "    .dataframe tbody tr th:only-of-type {\n",
       "        vertical-align: middle;\n",
       "    }\n",
       "\n",
       "    .dataframe tbody tr th {\n",
       "        vertical-align: top;\n",
       "    }\n",
       "\n",
       "    .dataframe thead th {\n",
       "        text-align: right;\n",
       "    }\n",
       "</style>\n",
       "<table border=\"1\" class=\"dataframe\">\n",
       "  <thead>\n",
       "    <tr style=\"text-align: right;\">\n",
       "      <th>DPQMDF</th>\n",
       "      <th>False</th>\n",
       "      <th>True</th>\n",
       "    </tr>\n",
       "    <tr>\n",
       "      <th>RHQ160</th>\n",
       "      <th></th>\n",
       "      <th></th>\n",
       "    </tr>\n",
       "  </thead>\n",
       "  <tbody>\n",
       "    <tr>\n",
       "      <th>1.0</th>\n",
       "      <td>85.4749</td>\n",
       "      <td>14.5251</td>\n",
       "    </tr>\n",
       "    <tr>\n",
       "      <th>2.0</th>\n",
       "      <td>90.2913</td>\n",
       "      <td>9.7087</td>\n",
       "    </tr>\n",
       "    <tr>\n",
       "      <th>3.0</th>\n",
       "      <td>89.3805</td>\n",
       "      <td>10.6195</td>\n",
       "    </tr>\n",
       "    <tr>\n",
       "      <th>4.0</th>\n",
       "      <td>84.7291</td>\n",
       "      <td>15.2709</td>\n",
       "    </tr>\n",
       "    <tr>\n",
       "      <th>5.0</th>\n",
       "      <td>83.4586</td>\n",
       "      <td>16.5414</td>\n",
       "    </tr>\n",
       "    <tr>\n",
       "      <th>6.0</th>\n",
       "      <td>85.4839</td>\n",
       "      <td>14.5161</td>\n",
       "    </tr>\n",
       "    <tr>\n",
       "      <th>7.0</th>\n",
       "      <td>88.5714</td>\n",
       "      <td>11.4286</td>\n",
       "    </tr>\n",
       "    <tr>\n",
       "      <th>8.0</th>\n",
       "      <td>80.0000</td>\n",
       "      <td>20.0000</td>\n",
       "    </tr>\n",
       "  </tbody>\n",
       "</table>\n",
       "</div>"
      ],
      "text/plain": [
       "DPQMDF    False    True \n",
       "RHQ160                  \n",
       "1.0     85.4749  14.5251\n",
       "2.0     90.2913   9.7087\n",
       "3.0     89.3805  10.6195\n",
       "4.0     84.7291  15.2709\n",
       "5.0     83.4586  16.5414\n",
       "6.0     85.4839  14.5161\n",
       "7.0     88.5714  11.4286\n",
       "8.0     80.0000  20.0000"
      ]
     },
     "execution_count": 32,
     "metadata": {},
     "output_type": "execute_result"
    }
   ],
   "source": [
    "ever_been_pregnant = df[df[GENDER] == 2].groupby([EVER_BEEN_PREGNANT, DEPRESSED]).size().unstack()[1:3].apply(utils.percentage, axis=1)\n",
    "df[df[GENDER] == 2].groupby([TIMES_BEEN_PREGNANT, DEPRESSED]).size().unstack()[1:8].apply(utils.percentage, axis=1)[1:]"
   ]
  },
  {
   "cell_type": "markdown",
   "metadata": {},
   "source": [
    "## Mental Health vs Alcohol Use:"
   ]
  },
  {
   "cell_type": "markdown",
   "metadata": {},
   "source": [
    "#### Lets separate alcogol use people on groups:\n",
    "1. 1-3 times per year\n",
    "2. Less than 1 time per month\n",
    "3. 1 time per month\n",
    "4. 2-3 times per month\n",
    "5. 1 time per week\n",
    "6. 2-3 times per week\n",
    "7. More than 3 times per week\n"
   ]
  },
  {
   "cell_type": "code",
   "execution_count": 33,
   "metadata": {},
   "outputs": [],
   "source": [
    "df[ALCOHOL_USE_GROUP] = df.apply(utils.alcohol_use_group_det, axis=1)"
   ]
  },
  {
   "cell_type": "code",
   "execution_count": 34,
   "metadata": {},
   "outputs": [
    {
     "data": {
      "text/html": [
       "<div>\n",
       "<style scoped>\n",
       "    .dataframe tbody tr th:only-of-type {\n",
       "        vertical-align: middle;\n",
       "    }\n",
       "\n",
       "    .dataframe tbody tr th {\n",
       "        vertical-align: top;\n",
       "    }\n",
       "\n",
       "    .dataframe thead th {\n",
       "        text-align: right;\n",
       "    }\n",
       "</style>\n",
       "<table border=\"1\" class=\"dataframe\">\n",
       "  <thead>\n",
       "    <tr style=\"text-align: right;\">\n",
       "      <th>ALQGR</th>\n",
       "      <th>1</th>\n",
       "      <th>2</th>\n",
       "      <th>3</th>\n",
       "      <th>4</th>\n",
       "      <th>5</th>\n",
       "      <th>6</th>\n",
       "      <th>7</th>\n",
       "    </tr>\n",
       "    <tr>\n",
       "      <th>DPQMDF</th>\n",
       "      <th></th>\n",
       "      <th></th>\n",
       "      <th></th>\n",
       "      <th></th>\n",
       "      <th></th>\n",
       "      <th></th>\n",
       "      <th></th>\n",
       "    </tr>\n",
       "  </thead>\n",
       "  <tbody>\n",
       "    <tr>\n",
       "      <th>False</th>\n",
       "      <td>88.3002</td>\n",
       "      <td>88.2736</td>\n",
       "      <td>89.8649</td>\n",
       "      <td>92.2667</td>\n",
       "      <td>92.2078</td>\n",
       "      <td>92.2246</td>\n",
       "      <td>87.4126</td>\n",
       "    </tr>\n",
       "    <tr>\n",
       "      <th>True</th>\n",
       "      <td>11.6998</td>\n",
       "      <td>11.7264</td>\n",
       "      <td>10.1351</td>\n",
       "      <td>7.7333</td>\n",
       "      <td>7.7922</td>\n",
       "      <td>7.7754</td>\n",
       "      <td>12.5874</td>\n",
       "    </tr>\n",
       "  </tbody>\n",
       "</table>\n",
       "</div>"
      ],
      "text/plain": [
       "ALQGR         1        2        3        4        5        6        7\n",
       "DPQMDF                                                               \n",
       "False   88.3002  88.2736  89.8649  92.2667  92.2078  92.2246  87.4126\n",
       "True    11.6998  11.7264  10.1351   7.7333   7.7922   7.7754  12.5874"
      ]
     },
     "execution_count": 34,
     "metadata": {},
     "output_type": "execute_result"
    }
   ],
   "source": [
    "alco_depression_crosstable = pd.crosstab(df[ALCOHOL_USE_GROUP], df[DEPRESSED])[1:]\n",
    "alco_depression_crosstable_perc = alco_depression_crosstable.apply(utils.percentage, axis=1)\n",
    "alco_depression_crosstable_perc.T"
   ]
  },
  {
   "cell_type": "markdown",
   "metadata": {},
   "source": [
    "# Visualisation and Insights"
   ]
  },
  {
   "cell_type": "code",
   "execution_count": 35,
   "metadata": {},
   "outputs": [
    {
     "data": {
      "image/png": "[encoded data removed]",
      "text/plain": [
       "<Figure size 1008x540 with 2 Axes>"
      ]
     },
     "metadata": {
      "needs_background": "light"
     },
     "output_type": "display_data"
    }
   ],
   "source": [
    "graphic.create_bars_for_depression_groups(depression_groups)"
   ]
  },
  {
   "cell_type": "markdown",
   "metadata": {},
   "source": [
    "#### During 2015–2026, ~8.55% of Americans aged 17 and over had depression (moderate or severe depressive symptoms in the past 2 weeks). "
   ]
  },
  {
   "cell_type": "code",
   "execution_count": 36,
   "metadata": {},
   "outputs": [
    {
     "data": {
      "image/png": "[encoded data removed]",
      "text/plain": [
       "<Figure size 576x360 with 1 Axes>"
      ]
     },
     "metadata": {
      "needs_background": "light"
     },
     "output_type": "display_data"
    }
   ],
   "source": [
    "graphic.create_grouped_bars(depr_age, female_age_depr, male_age_depr, bar_width=.25, labels=(\"Total\", \"Female\", \"Male\"), xlabel=\"Age group\", ylabel=\"Percentage of Depressed people\")"
   ]
  },
  {
   "cell_type": "markdown",
   "metadata": {},
   "source": [
    "* **Males have significantly lower rates than females overall and in every age group.**\n",
    "* **The highest rate of depression, 14.6%, was found in women aged 30-42.**\n",
    "* **Depression was more prevalent among females and persons aged 56-69.** \n",
    "\n",
    "---\n",
    "NOTES: Depression is defined as having moderate to severe depressive symptoms. \\\n",
    "SOURCE: CDC/NCHS, National Health and Nutrition Examination Survey."
   ]
  },
  {
   "cell_type": "code",
   "execution_count": 37,
   "metadata": {},
   "outputs": [
    {
     "data": {
      "image/png": "[encoded data removed]",
      "text/plain": [
       "<Figure size 576x360 with 1 Axes>"
      ]
     },
     "metadata": {
      "needs_background": "light"
     },
     "output_type": "display_data"
    }
   ],
   "source": [
    "graphic.create_grouped_bars(marital_total, marital_female, marital_male, bar_width=0.25, xlabel=\"Marital Status\", ylabel=\"Percentage of depressed people\")"
   ]
  },
  {
   "cell_type": "markdown",
   "metadata": {},
   "source": [
    "* **Males have significantly lower rates than females overall and in every Marital status group.**\n",
    "* **Significant difference occurred between females and males Living with partner.**\n",
    "* **Major Depression was more prevalent among females and Separated persons.**\n",
    "* **Major Depression was less prevailed among married people.**\n",
    "* **The most prevalent group of depressed people, 22.9%, is separated females.**\n",
    "---\n",
    "NOTES: Depression is defined as having moderate to severe depressive symptoms.  \\\n",
    "SOURCE: CDC/NCHS, National Health and Nutrition Examination Survey."
   ]
  },
  {
   "cell_type": "code",
   "execution_count": 38,
   "metadata": {},
   "outputs": [
    {
     "data": {
      "image/png": "[encoded data removed]",
      "text/plain": [
       "<Figure size 576x360 with 1 Axes>"
      ]
     },
     "metadata": {
      "needs_background": "light"
     },
     "output_type": "display_data"
    }
   ],
   "source": [
    "graphic.create_grouped_bars(sex_orientation_total, sex_orientation_female, sex_orientation_male, bar_width=0.25, xlabel=\"Sexual orientation\", ylabel=\"Percentage of depressed people\")"
   ]
  },
  {
   "cell_type": "markdown",
   "metadata": {},
   "source": [
    "* **Straight people have significantly lower rates than Bisexuals and gays among either males or females and overall.**\n",
    "* **Significant difference occurred between females and males living with partner.**\n",
    "* **Major Depression was more prevalent among Bisexual people.**\n",
    "* **Major Depression was less prevalent among Straight people**\n",
    "* **Major Depression was equally rated among bisexual females and males.**\n",
    "---\n",
    "NOTES: Depression is defined as having moderate to severe depressive symptoms. Sexual orientation is categorized as a result of female orientation and male orientation categories: Gay (Gay or Lesbian for females and Gay for males), Bisexual (Bisexual for both females and males), Straight (Straight for both females and males)  \\\n",
    "SOURCE: CDC/NCHS, National Health and Nutrition Examination Survey."
   ]
  },
  {
   "cell_type": "code",
   "execution_count": 39,
   "metadata": {},
   "outputs": [
    {
     "data": {
      "image/png": "[encoded data removed]",
      "text/plain": [
       "<Figure size 1008x432 with 1 Axes>"
      ]
     },
     "metadata": {
      "needs_background": "light"
     },
     "output_type": "display_data"
    }
   ],
   "source": [
    "graphic.create_race_bars(races_age, races)"
   ]
  },
  {
   "cell_type": "markdown",
   "metadata": {},
   "source": [
    "* **Non-Hispanic White and Other Hispanic groups have significantly greater rates than others.**\n",
    "* **The lowest rates occurred over Non-Hispanic Asian race.**\n",
    "* **Significant difference occurred over Non-Hispanic Black betwen 30-42 and 43-55.**\n",
    "---\n",
    "NOTES: Depression is defined as having moderate to severe depressive symptoms. \\\n",
    "SOURCE: CDC/NCHS, National Health and Nutrition Examination Survey."
   ]
  },
  {
   "cell_type": "code",
   "execution_count": 40,
   "metadata": {},
   "outputs": [
    {
     "data": {
      "image/png": "[encoded data removed]",
      "text/plain": [
       "<Figure size 1008x432 with 1 Axes>"
      ]
     },
     "metadata": {
      "needs_background": "light"
     },
     "output_type": "display_data"
    }
   ],
   "source": [
    "graphic.create_income_bars(income_race, income_total)"
   ]
  },
  {
   "cell_type": "markdown",
   "metadata": {},
   "source": [
    "* **Representatives with high level of Monthly income showed the lowest rates of Major Depression overall and among different races, as opposed to persons with low level of Monthly income.**\n",
    "* **Significant difference occurred over different Income group in Non-Hispanic White race.**\n",
    "---\n",
    "NOTES: Depression is defined as having moderate to severe depressive symptoms.  \\\n",
    "SOURCE: CDC/NCHS, National Health and Nutrition Examination Survey."
   ]
  },
  {
   "cell_type": "code",
   "execution_count": 41,
   "metadata": {},
   "outputs": [
    {
     "data": {
      "image/png": "[encoded data removed]",
      "text/plain": [
       "<Figure size 1008x720 with 4 Axes>"
      ]
     },
     "metadata": {
      "needs_background": "light"
     },
     "output_type": "display_data"
    }
   ],
   "source": [
    "graphic.create_edu_distplots(high_school_ed, college_ed, univers_ed)"
   ]
  },
  {
   "cell_type": "markdown",
   "metadata": {},
   "source": [
    "#### During the analysis significant correlation occurred between Depression Score and level of Education. However including Education code as a feature in predictive model raised mean absolute error, thus correlation between Education level and Depression Score is accepted as consequence of impact of level of Family Income on Depression Score due to the fact that Education level affects monthly Family Income Index.\n",
    "\n",
    "* **Representatives with high level of Education showed the highest rates of Monthly Family Income as opposed to persons with low level of Education prevailing on rates of lowest Family Income.**\n"
   ]
  },
  {
   "cell_type": "code",
   "execution_count": 42,
   "metadata": {},
   "outputs": [
    {
     "data": {
      "image/png": "[encoded data removed]",
      "text/plain": [
       "<Figure size 576x360 with 1 Axes>"
      ]
     },
     "metadata": {
      "needs_background": "light"
     },
     "output_type": "display_data"
    },
    {
     "data": {
      "image/png": "[encoded data removed]",
      "text/plain": [
       "<Waffle size 864x360 with 1 Axes>"
      ]
     },
     "metadata": {
      "needs_background": "light"
     },
     "output_type": "display_data"
    },
    {
     "data": {
      "image/png": "[encoded data removed]",
      "text/plain": [
       "<Waffle size 864x504 with 1 Axes>"
      ]
     },
     "metadata": {
      "needs_background": "light"
     },
     "output_type": "display_data"
    }
   ],
   "source": [
    "graphic.create_drugs_bars(rehab_2_perc, tried_drugs_2_perc)\n",
    "graphic.create_drugs_waffles(rehab, rehab_perc, tried_drugs_perc)"
   ]
  },
  {
   "cell_type": "markdown",
   "metadata": {},
   "source": [
    "* **People who were on rehabilitation program and who tried cocaine/methamphetamine/heroin had significant higher rates of Major Depression.**\n",
    "\n",
    "---\n",
    "NOTES: Depression is defined as having moderate to severe depressive symptoms. \\\n",
    "SOURCE: CDC/NCHS, National Health and Nutrition Examination Survey."
   ]
  },
  {
   "cell_type": "code",
   "execution_count": 43,
   "metadata": {},
   "outputs": [
    {
     "data": {
      "image/png": "[encoded data removed]",
      "text/plain": [
       "<Figure size 648x432 with 1 Axes>"
      ]
     },
     "metadata": {
      "needs_background": "light"
     },
     "output_type": "display_data"
    }
   ],
   "source": [
    "graphic.create_alco_bars(alco_depression_crosstable_perc)"
   ]
  },
  {
   "cell_type": "markdown",
   "metadata": {},
   "source": [
    "* **Major depression rate remains stable over people who drink alcohol 1-3 times per month, 1 time per week and 2-3 times per week.**\n",
    "* **Persons drinking 3 and more times per week occurred the most prevailed rate of depression among different alcohol consuming groups accounting for more than 12%.**\n",
    "* **The second prevailed rate of depression occurred in groups consuming alcohol less than 1 time per month accounting for roughly 12%.** \n",
    "\n",
    "---\n",
    "NOTES: Depression is defined as having moderate to severe depressive symptoms. \\\n",
    "SOURCE: CDC/NCHS, National Health and Nutrition Examination Survey."
   ]
  },
  {
   "cell_type": "markdown",
   "metadata": {},
   "source": [
    "# Predictive Analytics"
   ]
  },
  {
   "cell_type": "markdown",
   "metadata": {},
   "source": [
    "## Data preparation for prediction:"
   ]
  },
  {
   "cell_type": "code",
   "execution_count": 44,
   "metadata": {},
   "outputs": [],
   "source": [
    "prediction_df = df.copy()"
   ]
  },
  {
   "cell_type": "markdown",
   "metadata": {},
   "source": [
    "#### Map categorical features back to numerical values:"
   ]
  },
  {
   "cell_type": "code",
   "execution_count": 45,
   "metadata": {},
   "outputs": [],
   "source": [
    "RACE_MAP_BACK = {\"Mexican American\":1, \"Other Hispanic\":2, \"Non-Hispanic White\":3,\"Non-Hispanic Black\":4, \"Non-Hispanic Asian\":6, \"Other Race - Including Multi-Racial\":7}\n",
    "MARITAL_MAP_BACK = {\"Married\":1, \"Widowed\":2, \"Divorced\":3, \"Separated\":4, \"Never married\":5, \"Living with partner\":6}\n",
    "ORIENTATION_MAP_BACK = {\"Straight\":1, \"Gay\":2, \"Bisexual\":3}\n",
    "\n",
    "prediction_df[RACE] = prediction_df[RACE].map(RACE_MAP_BACK)\n",
    "prediction_df[MARITAL_STATUS] = prediction_df[MARITAL_STATUS].map(MARITAL_MAP_BACK)\n",
    "prediction_df[ORIENTATION_BOTH] = prediction_df[ORIENTATION_BOTH].map(ORIENTATION_MAP_BACK)"
   ]
  },
  {
   "cell_type": "markdown",
   "metadata": {},
   "source": [
    "#### Clean up all non-necessary instances (the ones with missing data):"
   ]
  },
  {
   "cell_type": "code",
   "execution_count": 46,
   "metadata": {},
   "outputs": [],
   "source": [
    "prediction_df = prediction_df[\n",
    "    (prediction_df[POVERTY_LEVEL_CATEGORY] != -1111) & \n",
    "    (prediction_df[MARITAL_STATUS].isna() == False) & \n",
    "    (prediction_df[ORIENTATION_BOTH].isna() == False)\n",
    "]"
   ]
  },
  {
   "cell_type": "markdown",
   "metadata": {},
   "source": [
    "#### Select predictive features:"
   ]
  },
  {
   "cell_type": "code",
   "execution_count": 47,
   "metadata": {},
   "outputs": [],
   "source": [
    "FEATURES = [ORIENTATION_BOTH, POVERTY_LEVEL_CATEGORY, ALCOHOL_USE_GROUP, *DRUG_USE_CODES, *DEMOGRAPHIC_CODES]"
   ]
  },
  {
   "cell_type": "markdown",
   "metadata": {},
   "source": [
    "### Prediction"
   ]
  },
  {
   "cell_type": "code",
   "execution_count": 48,
   "metadata": {},
   "outputs": [],
   "source": [
    "from sklearn.ensemble import RandomForestRegressor\n",
    "from sklearn.metrics import mean_absolute_error\n",
    "from sklearn.model_selection import train_test_split"
   ]
  },
  {
   "cell_type": "markdown",
   "metadata": {},
   "source": [
    "#### Separate prediction target from features"
   ]
  },
  {
   "cell_type": "code",
   "execution_count": 49,
   "metadata": {},
   "outputs": [],
   "source": [
    "y = prediction_df[DEPRESSION_SCORE] # We are going to predict Depression score, right!\n",
    "X = prediction_df[FEATURES]"
   ]
  },
  {
   "cell_type": "markdown",
   "metadata": {},
   "source": [
    "#### Separate data on 2 subsets:\n",
    "1. Training set\n",
    "2. Value set for model validation"
   ]
  },
  {
   "cell_type": "code",
   "execution_count": 50,
   "metadata": {},
   "outputs": [],
   "source": [
    "train_X, val_X, train_y, val_y = train_test_split(X, y, random_state=0)"
   ]
  },
  {
   "cell_type": "markdown",
   "metadata": {},
   "source": [
    "#### Fit Random Forest model to training values"
   ]
  },
  {
   "cell_type": "code",
   "execution_count": 51,
   "metadata": {},
   "outputs": [
    {
     "data": {
      "text/plain": [
       "RandomForestRegressor(bootstrap=True, ccp_alpha=0.0, criterion='mse',\n",
       "                      max_depth=None, max_features='auto', max_leaf_nodes=None,\n",
       "                      max_samples=None, min_impurity_decrease=0.0,\n",
       "                      min_impurity_split=None, min_samples_leaf=1,\n",
       "                      min_samples_split=2, min_weight_fraction_leaf=0.0,\n",
       "                      n_estimators=100, n_jobs=None, oob_score=False,\n",
       "                      random_state=1, verbose=0, warm_start=False)"
      ]
     },
     "execution_count": 51,
     "metadata": {},
     "output_type": "execute_result"
    }
   ],
   "source": [
    "forest_model = RandomForestRegressor(random_state=1)\n",
    "forest_model.fit(train_X, train_y)"
   ]
  },
  {
   "cell_type": "markdown",
   "metadata": {},
   "source": [
    "#### Predict values to non-training data"
   ]
  },
  {
   "cell_type": "code",
   "execution_count": 52,
   "metadata": {},
   "outputs": [],
   "source": [
    "prediction = forest_model.predict(val_X)"
   ]
  },
  {
   "cell_type": "markdown",
   "metadata": {},
   "source": [
    "#### Output mean absoulute error"
   ]
  },
  {
   "cell_type": "code",
   "execution_count": 53,
   "metadata": {},
   "outputs": [
    {
     "data": {
      "text/plain": [
       "3.166549003769521"
      ]
     },
     "execution_count": 53,
     "metadata": {},
     "output_type": "execute_result"
    }
   ],
   "source": [
    "mean_absolute_error(val_y, prediction)"
   ]
  }
 ],
 "metadata": {
  "kernelspec": {
   "display_name": "Python 3",
   "language": "python",
   "name": "python3"
  },
  "language_info": {
   "codemirror_mode": {
    "name": "ipython",
    "version": 3
   },
   "file_extension": ".py",
   "mimetype": "text/x-python",
   "name": "python",
   "nbconvert_exporter": "python",
   "pygments_lexer": "ipython3",
   "version": "3.7.2"
  }
 },
 "nbformat": 4,
 "nbformat_minor": 1
}
